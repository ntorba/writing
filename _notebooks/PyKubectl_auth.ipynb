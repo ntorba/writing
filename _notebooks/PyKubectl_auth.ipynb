{
 "cells": [
  {
   "cell_type": "code",
   "execution_count": 6,
   "metadata": {},
   "outputs": [
    {
     "name": "stdout",
     "output_type": "stream",
     "text": [
      "200\n"
     ]
    }
   ],
   "source": [
    "import json\n",
    "from authenticated_rest import get_pool_manager\n",
    "pool_manager, cluster_info = get_pool_manager()\n",
    "\n",
    "url = cluster_info[\"server\"] + \"/apis/\"\n",
    "headers = {'Accept': 'application/json', 'User-Agent': 'OpenAPI-Generator/12.0.0-snapshot/python', 'Content-Type': 'application/json'}\n",
    "r = pool_manager.request(\n",
    "    \"GET\", \n",
    "    url, \n",
    "    headers=headers, \n",
    "    preload_content=True\n",
    ")\n",
    "print(r.status)\n",
    "# json.loads(r.data)"
   ]
  },
  {
   "cell_type": "code",
   "execution_count": 19,
   "metadata": {},
   "outputs": [
    {
     "name": "stdout",
     "output_type": "stream",
     "text": [
      "arn:aws:eks:us-east-1:792852952478:cluster/amp-provider-nasa-dev1\n",
      "arn:aws:eks:us-west-2:600765618583:cluster/mlp-eks-dev-cluster-03\n",
      "docker-desktop\n",
      "docker-for-desktop\n",
      "\u001b[40m\u001b[33mkind-kind\u001b[m\n"
     ]
    }
   ],
   "source": [
    "!kubectx"
   ]
  },
  {
   "cell_type": "code",
   "execution_count": 78,
   "metadata": {},
   "outputs": [
    {
     "name": "stdout",
     "output_type": "stream",
     "text": [
      "https://127.0.0.1:32768/apis/machinelearning.seldon.io/v1alpha2/namespaces/default/seldondeployments/vsgdummy-002\n",
      "<class 'str'>\n",
      "200\n",
      "get_url =  https://127.0.0.1:32768/apis/machinelearning.seldon.io/v1alpha2/namespaces/default/seldondeployments\n",
      "200\n",
      "get_url =  https://127.0.0.1:32768/apis/apps/v1/namespaces/default/pods\n",
      "404\n"
     ]
    }
   ],
   "source": [
    "import yaml \n",
    "import json \n",
    "class Kubectl:\n",
    "    def __init__(self):\n",
    "        self.pool_manager, self.cluster_info = get_pool_manager()\n",
    "        self.base_url = self.cluster_info[\"server\"] + \"/apis\"\n",
    "        \n",
    "    def get(self, plural, api, namespace=\"default\"):\n",
    "        get_url = self.base_url + f\"/{api}\" + \"/namespaces\" + f\"/{namespace}\" + f\"/{plural}\"\n",
    "        print(\"get_url = \", get_url)\n",
    "        r = pool_manager.request(\n",
    "            \"GET\", \n",
    "            get_url, \n",
    "            preload_content=True\n",
    "        )\n",
    "        return r\n",
    "        \n",
    "    def create(self, fpath, namespace=\"default\", plural=None):\n",
    "        \"\"\"\n",
    "        args:\n",
    "            resource_name: If you are doing an update, you need to add the name of the actualy deployment to the end of the url \n",
    "        \n",
    "        \"\"\"\n",
    "        with open(fpath) as f:\n",
    "            deployment = yaml.safe_load(f)\n",
    "        if not plural: \n",
    "            plural = deployment[\"kind\"].lower() + \"s\"\n",
    "        url = self.base_url + f\"/{deployment['apiVersion']}\" + \"/namespaces\" + f\"/{namespace}\" + f\"/{plural}\"\n",
    "        r = pool_manager.request(\n",
    "            \"POST\", \n",
    "            url, \n",
    "            body=json.dumps(request_body),\n",
    "            preload_content=True\n",
    "        )\n",
    "        return r\n",
    "    \n",
    "    def update(self, fpath, namespace=\"default\", plural=None, resource_name=None):\n",
    "        \"\"\"\n",
    "        args:\n",
    "            resource_name: If you are doing an update, you need to add the name of the actualy deployment to the end of the url \n",
    "        \n",
    "        \"\"\"\n",
    "        with open(fpath) as f:\n",
    "            deployment = yaml.safe_load(f)\n",
    "        if not plural: \n",
    "            plural = deployment[\"kind\"].lower() + \"s\"\n",
    "        url = self.base_url + f\"/{deployment['apiVersion']}\" + \"/namespaces\" + f\"/{namespace}\" + f\"/{plural}\"\n",
    "        if resource_name:\n",
    "            url = url + f\"/{resource_name}\"\n",
    "        print(url)\n",
    "        request_body = json.dumps(deployment)\n",
    "        print(type(request_body))\n",
    "        r = pool_manager.request(\n",
    "            \"PATCH\", \n",
    "            url, \n",
    "            body=request_body,\n",
    "            preload_content=True,\n",
    "            headers={'Accept': 'application/json', 'Content-Type': 'application/merge-patch+json', 'User-Agent': 'OpenAPI-Generator/12.0.0-snapshot/python'}\n",
    "        )\n",
    "        return r\n",
    "\n",
    "kubectl = Kubectl()\n",
    "\n",
    "update_sdep_r = kubectl.update(\"/Users/ntorba605/ntorba605/amp/cd/vsgdummy.json\", resource_name=\"vsgdummy-002\")\n",
    "print(update_sdep_r.status)\n",
    "list_sdeps_r = kubectl.get(\"seldondeployments\", \"machinelearning.seldon.io/v1alpha2\")\n",
    "print(list_sdeps_r.status)\n",
    "\n",
    "pods = kubectl.get(\"pods\", \"apps/v1\")\n",
    "print(pods.status)"
   ]
  },
  {
   "cell_type": "code",
   "execution_count": 71,
   "metadata": {},
   "outputs": [
    {
     "data": {
      "text/plain": [
       "True"
      ]
     },
     "execution_count": 71,
     "metadata": {},
     "output_type": "execute_result"
    }
   ],
   "source": [
    "'https://127.0.0.1:32768/apis/machinelearning.seldon.io/v1alpha2/namespaces/default/seldondeployments/vsgdummy-002' == \"https://127.0.0.1:32768/apis/machinelearning.seldon.io/v1alpha2/namespaces/default/seldondeployments/vsgdummy-002\""
   ]
  },
  {
   "cell_type": "code",
   "execution_count": 73,
   "metadata": {},
   "outputs": [
    {
     "data": {
      "text/plain": [
       "dict_keys(['apiVersion', 'kind', 'metadata', 'spec', 'status'])"
      ]
     },
     "execution_count": 73,
     "metadata": {},
     "output_type": "execute_result"
    }
   ],
   "source": [
    "json.loads(update_sdep_r.data).keys()"
   ]
  },
  {
   "cell_type": "code",
   "execution_count": 74,
   "metadata": {},
   "outputs": [
    {
     "data": {
      "text/plain": [
       "dict_keys(['apiVersion', 'items', 'kind', 'metadata'])"
      ]
     },
     "execution_count": 74,
     "metadata": {},
     "output_type": "execute_result"
    }
   ],
   "source": [
    "json.loads(list_sdeps_r.data).keys()"
   ]
  },
  {
   "cell_type": "code",
   "execution_count": null,
   "metadata": {},
   "outputs": [],
   "source": []
  }
 ],
 "metadata": {
  "kernelspec": {
   "display_name": "Python 3",
   "language": "python",
   "name": "python3"
  },
  "language_info": {
   "codemirror_mode": {
    "name": "ipython",
    "version": 3
   },
   "file_extension": ".py",
   "mimetype": "text/x-python",
   "name": "python",
   "nbconvert_exporter": "python",
   "pygments_lexer": "ipython3",
   "version": "3.7.7"
  }
 },
 "nbformat": 4,
 "nbformat_minor": 4
}

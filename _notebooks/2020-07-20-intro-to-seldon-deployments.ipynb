{
 "cells": [
  {
   "cell_type": "markdown",
   "metadata": {},
   "source": [
    "# Seldon Deployment CRD\n",
    "> Learn about kubernetes custom resources, operators, and controllers through the seldon-core custom resource\n",
    "\n",
    "- toc: true \n",
    "- badges: true\n",
    "- comments: true\n",
    "- categories: [kubernetes, docker]\n",
    "- image: images/chart-preview.png"
   ]
  },
  {
   "cell_type": "markdown",
   "metadata": {},
   "source": [
    "### Intro\n",
    "In this post we will walk through the basics behind the seldon custom resource definition. \n",
    "To get started, let's get a cluster up and running. If you followed [part 1]() of this series, you can do so with kind. "
   ]
  },
  {
   "cell_type": "code",
   "execution_count": null,
   "metadata": {},
   "outputs": [],
   "source": [
    "!kind create cluster "
   ]
  },
  {
   "cell_type": "markdown",
   "metadata": {},
   "source": [
    "When working in kubernetes, I like to create a new namespace for that work. For those familiar with python, namespaces are similar to using virtual environments for different projects. Create a namespace with this command: "
   ]
  },
  {
   "cell_type": "code",
   "execution_count": null,
   "metadata": {},
   "outputs": [],
   "source": [
    "!kubectl create namespace seldon-intro"
   ]
  },
  {
   "cell_type": "markdown",
   "metadata": {},
   "source": [
    "Then use kubens to set this as your current namespace:"
   ]
  },
  {
   "cell_type": "code",
   "execution_count": null,
   "metadata": {},
   "outputs": [],
   "source": [
    "!kubens seldon-intro"
   ]
  },
  {
   "cell_type": "markdown",
   "metadata": {},
   "source": [
    "### Install Seldon\n",
    "I suggest using `helm` to install seldon. If you haven't used helm before, use [this page](https://helm.sh/) to find install instructions. (If you're on a mac, just use `brew install helm`). For those familiar with python, helm is like the pip for kubernetes. It works by using [helm charts](https://helm.sh/docs/topics/charts/). A chart is a group of files that describe a higher level application using built-in kubernetes resources. For example, you could use a helm chart to deploy a full stack web application. You can learn more about them [here](https://helm.sh/docs/topics/charts/).\n",
    "\n",
    "Once helm is installed, use it to install seldon-core and seldon-core-operator with the following command:"
   ]
  },
  {
   "cell_type": "code",
   "execution_count": null,
   "metadata": {},
   "outputs": [],
   "source": [
    "!helm install seldon-core seldon-core-operator \\\n",
    "    --repo https://storage.googleapis.com/seldon-charts \\\n",
    "    --set usageMetrics.enabled=true \\\n",
    "    --set ambassador.enabled=true \\\n",
    "    --namespace seldon-intro"
   ]
  },
  {
   "cell_type": "markdown",
   "metadata": {},
   "source": []
  },
  {
   "cell_type": "code",
   "execution_count": null,
   "metadata": {},
   "outputs": [],
   "source": [
    "!kubectl get deployments"
   ]
  },
  {
   "cell_type": "markdown",
   "metadata": {},
   "source": []
  },
  {
   "cell_type": "markdown",
   "metadata": {},
   "source": [
    "The docker image name used to create the seldon-controller-manager pod and deployment is called `docker.io/seldonio/seldon-core-operator:1.2.1`. That is because the seldon-controller-manager is the seldon-core-operator. \n",
    "\n",
    "Be sure to match the last line with the namespace you created in the previous command. We will talk more about what the other lines mean later in the series. \n",
    "After installing, run "
   ]
  },
  {
   "cell_type": "code",
   "execution_count": 13,
   "metadata": {},
   "outputs": [
    {
     "name": "stdout",
     "output_type": "stream",
     "text": [
      "NAME                                        READY   STATUS    RESTARTS   AGE   IP           NODE                 NOMINATED NODE   READINESS GATES\n",
      "seldon-controller-manager-769694875-gk4gl   1/1     Running   0          18m   10.244.0.5   kind-control-plane   <none>           <none>\n"
     ]
    }
   ],
   "source": [
    "!kubectl get pods -o wide"
   ]
  },
  {
   "cell_type": "markdown",
   "metadata": {},
   "source": [
    "and you'll see you have a pod running with seldon-controller-manager in the name (followed by a random string, we will talk about why that is soon). Next, run "
   ]
  },
  {
   "cell_type": "code",
   "execution_count": 12,
   "metadata": {},
   "outputs": [
    {
     "name": "stdout",
     "output_type": "stream",
     "text": [
      "NAME                        READY   UP-TO-DATE   AVAILABLE   AGE\n",
      "seldon-controller-manager   1/1     1            1           18m\n"
     ]
    }
   ],
   "source": [
    "!kubectl get deployments"
   ]
  },
  {
   "cell_type": "markdown",
   "metadata": {},
   "source": [
    "Seldon-controller-manager is a kubernetes operator. As described [here](https://www.jaegertracing.io/docs/1.16/operator/), kubernetes operators are extensions of the kubernetes api that allow users to easily package and deploy complex applications on kubernetes. The seldon-core-operator adds a lot of functionality to the kubernetes cluster and allows us to interact with seldon deployments as if they were a built-in kubernetes object. Along with this, we also installed the seldon-core custom resource definition. Kubernetes custom resources are extensions of the native kuberetes api. As you will see soon, we will now be able to deploy and interact with a new structure, the `sdep`, in the same fashion we deploy and monitor kubernetes deployments, servives, and other built-in resources. \n",
    "\n",
    "\n",
    "All interactions with a kubernetes cluster is the user specifying a new desired state, and the kubernetes cluster using it's resources to change into that desired state. When, a custom resource is created, an operator is needed as well to tell kubernetes how to handle updates to the desired state of the custom resource. \n",
    "The seldon-core operator is what allows users to make edits to currently running seldon deployments without downtime. \n",
    "\n",
    "Operators allows kubernetes to run stateful applications. A popular usecase for operators is databases. \n",
    "\n",
    "In [this post](https://enterprisersproject.com/article/2019/2/kubernetes-operators-plain-english?page=1), they write \n",
    "```\n",
    "If you had to sum up Kubernetes in a word, the best choice might not be “orchestration” but “automation.” That’s what it’s all about: Kubernetes enables the automation of the infrastructure (and corresponding operational burden of managing that infrastructure) necessary for running containerized applications – a must when running these apps at scale in production environments.\n",
    "```\n",
    "This is very evident with the Seldon deployment CRD and operator. As we move along and start to create our own seldon deployments, you will see the power of this automation. With a single file, a seldon deployment will launch multiple services, deployments, pods, and allow for continuous updates of all those components through the Kubernetes api. Seldon has leveraged the power of the automation offered by kubernetes to create inferences graphs of many components. \n",
    "\n",
    "Another great quote from that article: \n",
    "```\n",
    "“Operators are simplifying the process highly complex distributed database management by defining the installation, scale, updates, and management lifecycle of a stateful clustered application,” says Yossi Jana, DevOps team leader at AllCloud.\n",
    "\n",
    "From another vantage point, consider life without Operators.\n",
    "\n",
    "“Without Operators, many applications need intervention to deploy, scale, reconfigure, upgrade, or recover from faults,” Thompson says. “If your app – or apps that you depend on, such as your database management system – [requires] DevOps engineers hovering over a keyboard in these critical moments, hoping they get the steps correctly, you’re almost certain to have greater downtime and more stress in your team.”\n",
    "```\n",
    "\n",
    "As described in the kubernetes docs [here](https://kubernetes.io/docs/concepts/extend-kubernetes/operator/), operators follow the controller pattern, which means they are responsible for keep the desired state of the custom resource they are responsible for. \n",
    "The seldon-core-operator is responsbile for the Seldon Deployment custom resource. That means, when we create or edit a seldon deployment, the seldon-core-operator is responsible for adjusting the kubernetes deployment to the desired state to meet the new edits applied by the user. \n",
    "\n",
    "\n",
    "In every article you read about kubernetes operators, you'll find some sentiment to the fact that is confusing the first time around. In fact, pretty much everything you learn about kubernetes will be confusing the first time around. Don't let that discourage you. That is why we are using seldon to help our understanding. Instead of reading description after description of what a custom resource and operator are, let's actually use them to begin to understand the power they provide. \n"
   ]
  },
  {
   "cell_type": "code",
   "execution_count": 27,
   "metadata": {},
   "outputs": [
    {
     "name": "stdout",
     "output_type": "stream",
     "text": [
      "seldondeployment.machinelearning.seldon.io/iris-model configured\n"
     ]
    }
   ],
   "source": [
    "%%bash\n",
    "kubectl apply -f - << END\n",
    "apiVersion: machinelearning.seldon.io/v1alpha2\n",
    "kind: SeldonDeployment\n",
    "metadata:\n",
    "  name: iris-model\n",
    "spec:\n",
    "  name: sklearn-iris-deployment\n",
    "  predictors:\n",
    "  - componentSpecs:\n",
    "    - spec:\n",
    "        containers:\n",
    "        - image: seldonio/sklearn-iris:0.1\n",
    "          imagePullPolicy: IfNotPresent\n",
    "          name: sklearn-iris-classifier\n",
    "    graph:\n",
    "      children: []\n",
    "      endpoint:\n",
    "        type: REST\n",
    "      name: sklearn-iris-classifier\n",
    "      type: MODEL\n",
    "    name: predictor\n",
    "    replicas: 1\n",
    "END"
   ]
  },
  {
   "cell_type": "code",
   "execution_count": 28,
   "metadata": {},
   "outputs": [
    {
     "name": "stdout",
     "output_type": "stream",
     "text": [
      "NAME                                                              READY   STATUS    RESTARTS   AGE\n",
      "iris-model-predictor-0-sklearn-iris-classifier-5f5b59678-8bpwk    0/2     Running   0          3s\n",
      "iris-model-sklearn-iris-predictor-0-sklearn-iris-classifie4l84z   0/2     Running   0          17s\n",
      "seldon-controller-manager-769694875-gk4gl                         1/1     Running   0          30m\n"
     ]
    }
   ],
   "source": [
    "!kubectl get pods"
   ]
  },
  {
   "cell_type": "code",
   "execution_count": null,
   "metadata": {},
   "outputs": [],
   "source": []
  },
  {
   "cell_type": "code",
   "execution_count": null,
   "metadata": {},
   "outputs": [],
   "source": []
  },
  {
   "cell_type": "code",
   "execution_count": null,
   "metadata": {},
   "outputs": [],
   "source": []
  }
 ],
 "metadata": {
  "kernelspec": {
   "display_name": "Python 3",
   "language": "python",
   "name": "python3"
  },
  "language_info": {
   "codemirror_mode": {
    "name": "ipython",
    "version": 3
   },
   "file_extension": ".py",
   "mimetype": "text/x-python",
   "name": "python",
   "nbconvert_exporter": "python",
   "pygments_lexer": "ipython3",
   "version": "3.7.7"
  }
 },
 "nbformat": 4,
 "nbformat_minor": 4
}

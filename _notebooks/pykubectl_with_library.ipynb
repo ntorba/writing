{
 "cells": [
  {
   "cell_type": "code",
   "execution_count": 1,
   "metadata": {},
   "outputs": [
    {
     "data": {
      "text/plain": [
       "dict_keys(['apiVersion', 'clusters', 'contexts', 'current-context', 'kind', 'preferences', 'users'])"
      ]
     },
     "execution_count": 1,
     "metadata": {},
     "output_type": "execute_result"
    }
   ],
   "source": [
    "import json \n",
    "from pykubectl.authenticated_rest import load_kubeconfig\n",
    "from pykubectl.kubectl_client import Pykubectl\n",
    "kc = load_kubeconfig()\n",
    "kc.keys()"
   ]
  },
  {
   "cell_type": "code",
   "execution_count": 2,
   "metadata": {},
   "outputs": [
    {
     "name": "stdout",
     "output_type": "stream",
     "text": [
      "get_url =  https://127.0.0.1:32770/api/v1/namespaces/default/pods\n"
     ]
    },
    {
     "data": {
      "text/plain": [
       "['seldon-92a927e5e90d7602e08ba9b9304f70e8-64b4dd45ff-hvf4c',\n",
       " 'seldon-controller-manager-655fc4ccb6-8x85v']"
      ]
     },
     "execution_count": 2,
     "metadata": {},
     "output_type": "execute_result"
    }
   ],
   "source": [
    "pk = Pykubectl()\n",
    "r = pk.get(\"pods\")\n",
    "data = json.loads(r.data)\n",
    "[i[\"metadata\"][\"name\"] for i in data[\"items\"]]"
   ]
  },
  {
   "cell_type": "code",
   "execution_count": 3,
   "metadata": {},
   "outputs": [
    {
     "data": {
      "text/plain": [
       "{'kind': 'Status',\n",
       " 'apiVersion': 'v1',\n",
       " 'metadata': {},\n",
       " 'status': 'Failure',\n",
       " 'message': 'seldondeployments.machinelearning.seldon.io \"seldon-deployment-example\" already exists',\n",
       " 'reason': 'AlreadyExists',\n",
       " 'details': {'name': 'seldon-deployment-example',\n",
       "  'group': 'machinelearning.seldon.io',\n",
       "  'kind': 'seldondeployments'},\n",
       " 'code': 409}"
      ]
     },
     "execution_count": 3,
     "metadata": {},
     "output_type": "execute_result"
    }
   ],
   "source": [
    "r = pk.create(\"sklearn_iris_deployment.yaml\")\n",
    "json.loads(r.data)"
   ]
  },
  {
   "cell_type": "code",
   "execution_count": 6,
   "metadata": {},
   "outputs": [
    {
     "name": "stdout",
     "output_type": "stream",
     "text": [
      "get_url =  https://127.0.0.1:32770/apis/machinelearning.seldon.io/v1alpha2/namespaces/default/seldondeployments/seldon-deployment-example\n"
     ]
    },
    {
     "data": {
      "text/plain": [
       "{'apiVersion': 'machinelearning.seldon.io/v1alpha2',\n",
       " 'kind': 'SeldonDeployment',\n",
       " 'metadata': {'creationTimestamp': '2020-09-11T13:18:55Z',\n",
       "  'generation': 2,\n",
       "  'name': 'seldon-deployment-example',\n",
       "  'namespace': 'default',\n",
       "  'resourceVersion': '11781',\n",
       "  'selfLink': '/apis/machinelearning.seldon.io/v1alpha2/namespaces/default/seldondeployments/seldon-deployment-example',\n",
       "  'uid': '915ec080-ad1d-4c4d-a168-9b94841ffe4c'},\n",
       " 'spec': {'name': 'sklearn-iris-deployment',\n",
       "  'predictors': [{'componentSpecs': [{'metadata': {'creationTimestamp': None},\n",
       "      'spec': {'containers': [{'image': 'seldonio/sklearn-iris:0.1',\n",
       "         'imagePullPolicy': 'IfNotPresent',\n",
       "         'name': 'sklearn-iris-classifier',\n",
       "         'ports': [{'containerPort': 6000,\n",
       "           'name': 'metrics',\n",
       "           'protocol': 'TCP'}],\n",
       "         'resources': {},\n",
       "         'volumeMounts': [{'mountPath': '/etc/podinfo',\n",
       "           'name': 'seldon-podinfo'}]}]}}],\n",
       "    'engineResources': {},\n",
       "    'graph': {'endpoint': {'service_host': 'localhost',\n",
       "      'service_port': 9000,\n",
       "      'type': 'REST'},\n",
       "     'implementation': 'UNKNOWN_IMPLEMENTATION',\n",
       "     'name': 'sklearn-iris-classifier',\n",
       "     'type': 'MODEL'},\n",
       "    'labels': {'version': 'sklearn-iris-predictor'},\n",
       "    'name': 'sklearn-iris-predictor',\n",
       "    'replicas': 2,\n",
       "    'svcOrchSpec': {}}]},\n",
       " 'status': {'address': {'url': 'http://seldon-deployment-example-sklearn-iris-predictor.default.svc.cluster.local:8000/api/v1.0/predictions'},\n",
       "  'deploymentStatus': {'seldon-92a927e5e90d7602e08ba9b9304f70e8': {'availableReplicas': 1,\n",
       "    'replicas': 2}},\n",
       "  'replicas': 2,\n",
       "  'serviceStatus': {'seldon-d0934233541ef6b732c88680f8a0e94f': {'httpEndpoint': 'seldon-d0934233541ef6b732c88680f8a0e94f.default:9000',\n",
       "    'svcName': 'seldon-d0934233541ef6b732c88680f8a0e94f'},\n",
       "   'seldon-deployment-example-sklearn-iris-predictor': {'grpcEndpoint': 'seldon-deployment-example-sklearn-iris-predictor.default:5001',\n",
       "    'httpEndpoint': 'seldon-deployment-example-sklearn-iris-predictor.default:8000',\n",
       "    'svcName': 'seldon-deployment-example-sklearn-iris-predictor'}},\n",
       "  'state': 'Creating'}}"
      ]
     },
     "execution_count": 6,
     "metadata": {},
     "output_type": "execute_result"
    }
   ],
   "source": [
    "r = pk.get(\"seldondeployments\", resource_name=\"seldon-deployment-example\")\n",
    "json.loads(r.data)"
   ]
  },
  {
   "cell_type": "code",
   "execution_count": 5,
   "metadata": {},
   "outputs": [
    {
     "name": "stdout",
     "output_type": "stream",
     "text": [
      "https://127.0.0.1:32770/apis/machinelearning.seldon.io/v1alpha2/namespaces/default/seldondeployments/seldon-deployment-example\n"
     ]
    },
    {
     "data": {
      "text/plain": [
       "dict_keys(['apiVersion', 'kind', 'metadata', 'spec', 'status'])"
      ]
     },
     "execution_count": 5,
     "metadata": {},
     "output_type": "execute_result"
    }
   ],
   "source": [
    "r = pk.update(\"sklearn_iris_deployment.yaml\")\n",
    "json.loads(r.data).keys()"
   ]
  },
  {
   "cell_type": "code",
   "execution_count": null,
   "metadata": {},
   "outputs": [],
   "source": []
  }
 ],
 "metadata": {
  "kernelspec": {
   "display_name": "Python 3",
   "language": "python",
   "name": "python3"
  },
  "language_info": {
   "codemirror_mode": {
    "name": "ipython",
    "version": 3
   },
   "file_extension": ".py",
   "mimetype": "text/x-python",
   "name": "python",
   "nbconvert_exporter": "python",
   "pygments_lexer": "ipython3",
   "version": "3.7.7"
  }
 },
 "nbformat": 4,
 "nbformat_minor": 4
}

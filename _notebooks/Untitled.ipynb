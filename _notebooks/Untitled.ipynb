{
 "cells": [
  {
   "cell_type": "markdown",
   "metadata": {},
   "source": [
    "I am very close to understanding this authentication \n",
    "The `class FileOrData` class is the key. This is actually creating the cert files from the \n",
    "info in the kubeconfig file. \n",
    "Walk through this class to see how it is creating the files to then copy that and see if I can create my own pool_manager "
   ]
  },
  {
   "cell_type": "code",
   "execution_count": null,
   "metadata": {},
   "outputs": [],
   "source": [
    "from kubernetes import client, config\n",
    "\n",
    "config.load_kube_config()\n",
    "\n",
    "client.api_client\n",
    "c = client.CoreV1Api()"
   ]
  },
  {
   "cell_type": "code",
   "execution_count": null,
   "metadata": {},
   "outputs": [],
   "source": [
    "\n"
   ]
  },
  {
   "cell_type": "code",
   "execution_count": null,
   "metadata": {},
   "outputs": [],
   "source": [
    "import base64 \n",
    "import atexit \n",
    "import tempfile\n",
    "\n",
    "_temp_files = {}\n",
    "def _create_temp_file_with_content(content):\n",
    "    if len(_temp_files) == 0:\n",
    "        atexit.register(_cleanup_temp_files)\n",
    "    # Because we may change context several times, try to remember files we\n",
    "    # created and reuse them at a small memory cost.\n",
    "    content_key = str(content)\n",
    "    if content_key in _temp_files:\n",
    "        return _temp_files[content_key]\n",
    "    _, name = tempfile.mkstemp()\n",
    "    _temp_files[content_key] = name\n",
    "    with open(name, \"wb\") as fd:\n",
    "        fd.write(content.encode() if isinstance(content, str) else content)\n",
    "    return name\n",
    "\n",
    "def _cleanup_temp_files():\n",
    "    global _temp_files\n",
    "    for temp_file in _temp_files.values():\n",
    "        try:\n",
    "            os.remove(temp_file)\n",
    "        except OSError:\n",
    "            pass\n",
    "    _temp_files = {}\n",
    "\n",
    "class FileOrData(object):\n",
    "    \"\"\"Utility class to read content of obj[%data_key_name] or file's\n",
    "     content of obj[%file_key_name] and represent it as file or data.\n",
    "     Note that the data is preferred. The obj[%file_key_name] will be used iff\n",
    "     obj['%data_key_name'] is not set or empty. Assumption is file content is\n",
    "     raw data and data field is base64 string. The assumption can be changed\n",
    "     with base64_file_content flag. If set to False, the content of the file\n",
    "     will assumed to be base64 and read as is. The default True value will\n",
    "     result in base64 encode of the file content after read.\"\"\"\n",
    "    def __init__(\n",
    "        self,\n",
    "        obj,\n",
    "        file_key_name,\n",
    "        data_key_name=None,\n",
    "        file_base_path=\"\",\n",
    "        base64_file_content=True,\n",
    "    ):\n",
    "        if not data_key_name:\n",
    "            data_key_name = file_key_name + \"-data\"\n",
    "        self._file = None\n",
    "        self._data = None\n",
    "        self._base64_file_content = base64_file_content\n",
    "        if data_key_name in obj:\n",
    "            self._data = obj[data_key_name]\n",
    "        elif file_key_name in obj:\n",
    "            self._file = os.path.normpath(\n",
    "                os.path.join(file_base_path, obj[file_key_name])\n",
    "            )\n",
    "\n",
    "    def as_file(self):\n",
    "        \"\"\"If obj[%data_key_name] exists, return name of a file with base64\n",
    "        decoded obj[%data_key_name] content otherwise obj[%file_key_name].\"\"\"\n",
    "        use_data_if_no_file = not self._file and self._data\n",
    "        if use_data_if_no_file:\n",
    "            if self._base64_file_content:\n",
    "                if isinstance(self._data, str):\n",
    "                    content = self._data.encode()\n",
    "                else:\n",
    "                    content = self._data\n",
    "                self._file = _create_temp_file_with_content(\n",
    "                    base64.standard_b64decode(content)\n",
    "                )\n",
    "            else:\n",
    "                self._file = _create_temp_file_with_content(self._data)\n",
    "        if self._file and not os.path.isfile(self._file):\n",
    "            raise ConfigException(\"File does not exists: %s\" % self._file)\n",
    "        return self._file\n",
    "\n",
    "    def as_data(self):\n",
    "        \"\"\"If obj[%data_key_name] exists, Return obj[%data_key_name] otherwise\n",
    "        base64 encoded string of obj[%file_key_name] file content.\"\"\"\n",
    "        use_file_if_no_data = not self._data and self._file\n",
    "        if use_file_if_no_data:\n",
    "            with open(self._file) as f:\n",
    "                if self._base64_file_content:\n",
    "                    self._data = bytes.decode(\n",
    "                        base64.standard_b64encode(str.encode(f.read()))\n",
    "                    )\n",
    "                else:\n",
    "                    self._data = f.read()\n",
    "        return self._data"
   ]
  },
  {
   "cell_type": "code",
   "execution_count": null,
   "metadata": {},
   "outputs": [],
   "source": [
    "import os\n",
    "import yaml\n",
    "\n",
    "def get_current(config, current_context):\n",
    "    for i_cluster, i_user in zip(config[\"clusters\"], config[\"users\"]): \n",
    "        if i_cluster[\"name\"] == current_context:\n",
    "            cluster = i_cluster\n",
    "            user = i_user\n",
    "            name = cluster[\"name\"]\n",
    "            combined = {\"name\": name}\n",
    "            for k, v in cluster[\"cluster\"].items():\n",
    "                combined[k] = v\n",
    "            for k, v in user[\"user\"].items():\n",
    "                combined[k] = v\n",
    "            return combined\n",
    "    else:\n",
    "        raise Exception(\"No match!\")\n",
    "    \n",
    "\n",
    "base_path = os.environ[\"KUBECONFIG\"]\n",
    "with open(base_path) as f:\n",
    "    kubeconfig = yaml.safe_load(f)\n",
    "kubeconfig.keys()\n",
    "\n",
    "c_obj = get_current(kubeconfig, kubeconfig[\"current-context\"])\n",
    "c_obj.keys()"
   ]
  },
  {
   "cell_type": "code",
   "execution_count": null,
   "metadata": {},
   "outputs": [],
   "source": [
    "import os \n",
    "ssl_ca_cert = FileOrData(c_obj, \"certificate-authority\", file_base_path=base_path).as_file()\n"
   ]
  },
  {
   "cell_type": "code",
   "execution_count": null,
   "metadata": {},
   "outputs": [],
   "source": [
    "cert_file = FileOrData(\n",
    "    c_obj, \"client-certificate\", file_base_path=base_path\n",
    ").as_file()\n",
    "key_file = FileOrData(\n",
    "    c_obj, \"client-key\", file_base_path=base_path\n",
    ").as_file()"
   ]
  },
  {
   "cell_type": "code",
   "execution_count": null,
   "metadata": {},
   "outputs": [],
   "source": [
    "print(type(ssl))"
   ]
  },
  {
   "cell_type": "code",
   "execution_count": null,
   "metadata": {},
   "outputs": [],
   "source": [
    "import urllib3\n",
    "import ssl\n",
    "pool_manager = urllib3.PoolManager(\n",
    "    num_pools=4,\n",
    "    maxsize=50,\n",
    "    cert_reqs=ssl.CERT_REQUIRED,\n",
    "    ca_certs=ssl_ca_cert,\n",
    "    cert_file=cert_file,\n",
    "    key_file=key_file\n",
    ")"
   ]
  },
  {
   "cell_type": "code",
   "execution_count": null,
   "metadata": {},
   "outputs": [],
   "source": [
    "url"
   ]
  },
  {
   "cell_type": "code",
   "execution_count": null,
   "metadata": {},
   "outputs": [],
   "source": [
    "url = c_obj[\"server\"] + \"/api/\"\n",
    "headers = {'Accept': 'application/json', 'User-Agent': 'OpenAPI-Generator/12.0.0-snapshot/python', 'Content-Type': 'application/json'}\n",
    "r = pool_manager.request(\n",
    "    \"GET\", \n",
    "    url, \n",
    "    headers=headers, \n",
    "    preload_content=True\n",
    ")\n",
    "r"
   ]
  },
  {
   "cell_type": "code",
   "execution_count": null,
   "metadata": {},
   "outputs": [],
   "source": [
    "import json \n",
    "d = json.loads(r.data)\n",
    "d"
   ]
  },
  {
   "cell_type": "code",
   "execution_count": null,
   "metadata": {},
   "outputs": [],
   "source": [
    "dir(r)"
   ]
  },
  {
   "cell_type": "code",
   "execution_count": null,
   "metadata": {},
   "outputs": [],
   "source": []
  }
 ],
 "metadata": {
  "kernelspec": {
   "display_name": "Python 3",
   "language": "python",
   "name": "python3"
  },
  "language_info": {
   "codemirror_mode": {
    "name": "ipython",
    "version": 3
   },
   "file_extension": ".py",
   "mimetype": "text/x-python",
   "name": "python",
   "nbconvert_exporter": "python",
   "pygments_lexer": "ipython3",
   "version": "3.7.7"
  }
 },
 "nbformat": 4,
 "nbformat_minor": 4
}

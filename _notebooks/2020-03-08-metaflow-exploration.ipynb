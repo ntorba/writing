{
 "cells": [
  {
   "cell_type": "markdown",
   "metadata": {},
   "source": [
    "# Exploring Metaflow\n",
    "> Want to use this to take a look at how metaflow works, specifically their decorators\n",
    "\n",
    "- toc: true \n",
    "- badges: true\n",
    "- comments: true\n",
    "- categories: [jupyter]\n",
    "- image: images/chart-preview.png"
   ]
  },
  {
   "cell_type": "markdown",
   "metadata": {},
   "source": [
    "## About \n",
    "[metaflow](https://github.com/Netflix/metaflow) is a python package open sourced by netflix to help data scientists easily scale their project workflows. Metaflow is mainly interacted with through decorators. In this post, we will get behind the scenes of how these decorators actually work. "
   ]
  },
  {
   "cell_type": "markdown",
   "metadata": {},
   "source": [
    "## The code\n",
    "To start, let's take a look at the [first example](https://github.com/Netflix/metaflow/blob/master/metaflow/tutorials/00-helloworld/helloworld.py) in the documentation. This is a simple flow. "
   ]
  },
  {
   "cell_type": "code",
   "execution_count": null,
   "metadata": {},
   "outputs": [],
   "source": [
    "from metaflow import FlowSpec, step\n",
    "class LinearFlow(FlowSpec):\n",
    "    @step\n",
    "    def start(self):\n",
    "        self.my_var = 'hello world'\n",
    "        self.next(self.a)\n",
    "\n",
    "    @step\n",
    "    def a(self):\n",
    "        print('the data artifact is: %s' % self.my_var)\n",
    "        self.next(self.end)\n",
    "\n",
    "    @step\n",
    "    def end(self):\n",
    "        print('the data artifact is still: %s' % self.my_var)\n",
    "\n",
    "LinearFlow()"
   ]
  },
  {
   "cell_type": "markdown",
   "metadata": {},
   "source": [
    "We see that the LinearFlow python class inherits from metaflow's FlowSpec class, and each of the functions are decorated with ```@step```. As seen (here)[https://docs.metaflow.org/metaflow/basics], this basic flow follows metaflow's guidelines. However, what is actually happening? How does it turn our functions into pipeline steps? Let's start by taking a look at the Flowspec class."
   ]
  },
  {
   "cell_type": "markdown",
   "metadata": {},
   "source": [
    "(Flowspec)[https://github.com/Netflix/metaflow/blob/master/metaflow/flowspec.py]"
   ]
  }
 ],
 "metadata": {
  "kernelspec": {
   "display_name": "Python 3",
   "language": "python",
   "name": "python3"
  },
  "language_info": {
   "codemirror_mode": {
    "name": "ipython",
    "version": 3
   },
   "file_extension": ".py",
   "mimetype": "text/x-python",
   "name": "python",
   "nbconvert_exporter": "python",
   "pygments_lexer": "ipython3",
   "version": "3.7.3"
  }
 },
 "nbformat": 4,
 "nbformat_minor": 4
}

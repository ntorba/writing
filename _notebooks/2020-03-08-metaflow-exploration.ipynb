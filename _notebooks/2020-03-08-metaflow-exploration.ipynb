{
 "cells": [
  {
   "cell_type": "markdown",
   "metadata": {},
   "source": [
    "# Exploring Metaflow\n",
    "> Want to use this to take a look at how metaflow works, specifically their decorators\n",
    "\n",
    "- toc: true \n",
    "- badges: true\n",
    "- comments: true\n",
    "- categories: [jupyter]\n",
    "- image: images/chart-preview.png"
   ]
  },
  {
   "cell_type": "markdown",
   "metadata": {},
   "source": [
    "## About \n",
    "[metaflow](https://github.com/Netflix/metaflow) is a python package open sourced by netflix to help data scientists easily scale their project workflows. Metaflow is mainly interacted with through decorators. In this post, we will get behind the scenes of how these decorators actually work. "
   ]
  },
  {
   "cell_type": "markdown",
   "metadata": {},
   "source": [
    "## The code\n",
    "To start, let's take a look at the [first example](https://github.com/Netflix/metaflow/blob/master/metaflow/tutorials/00-helloworld/helloworld.py) in the documentation. This is a simple flow. "
   ]
  },
  {
   "cell_type": "code",
   "execution_count": null,
   "metadata": {},
   "outputs": [],
   "source": [
    "from metaflow import FlowSpec, step\n",
    "class LinearFlow(FlowSpec):\n",
    "    @step\n",
    "    def start(self):\n",
    "        self.my_var = 'hello world'\n",
    "        self.next(self.a)\n",
    "\n",
    "    @step\n",
    "    def a(self):\n",
    "        print('the data artifact is: %s' % self.my_var)\n",
    "        self.next(self.end)\n",
    "\n",
    "    @step\n",
    "    def end(self):\n",
    "        print('the data artifact is still: %s' % self.my_var)\n",
    "\n",
    "LinearFlow()"
   ]
  },
  {
   "cell_type": "markdown",
   "metadata": {},
   "source": [
    "We see that the LinearFlow python class inherits from metaflow's FlowSpec class, and each of the functions are decorated with ```@step```. As seen (here)[https://docs.metaflow.org/metaflow/basics], this basic flow follows metaflow's guidelines. However, what is actually happening? How does it turn our functions into pipeline steps? Let's start by taking a look at the Flowspec class."
   ]
  },
  {
   "cell_type": "markdown",
   "metadata": {},
   "source": [
    "(Flowspec)[https://github.com/Netflix/metaflow/blob/master/metaflow/flowspec.py] definition and constructor. Full code can be found at the link. \n",
    "```python\n",
    "class FlowSpec(object):\n",
    "    \"\"\"\n",
    "    Main class from which all Flows should inherit.\n",
    "    Attributes\n",
    "    ----------\n",
    "    script_name\n",
    "    index\n",
    "    input\n",
    "    \"\"\"\n",
    "\n",
    "    # Attributes that are not saved in the datastore when checkpointing.\n",
    "    # Name starting with '__', methods, functions and Parameters do not need\n",
    "    # to be listed.\n",
    "    _EPHEMERAL = {'_EPHEMERAL',\n",
    "                  '_datastore',\n",
    "                  '_cached_input',\n",
    "                  '_graph',\n",
    "                  '_flow_decorators',\n",
    "                  '_steps',\n",
    "                  'index',\n",
    "                  'input'}\n",
    "\n",
    "    _flow_decorators = {}\n",
    "\n",
    "    def __init__(self, use_cli=True):\n",
    "        \"\"\"\n",
    "        Construct a FlowSpec\n",
    "        Parameters\n",
    "        ----------\n",
    "        use_cli : bool, optional, default: True\n",
    "            Set to True if the flow is invoked from __main__ or the command line\n",
    "        \"\"\"\n",
    "\n",
    "        self.name = self.__class__.__name__\n",
    "\n",
    "        self._datastore = None\n",
    "        self._transition = None\n",
    "        self._cached_input = {}\n",
    "\n",
    "        self._graph = FlowGraph(self.__class__)\n",
    "        self._steps = [getattr(self, node.name) for node in self._graph]\n",
    "\n",
    "        if use_cli:\n",
    "            # we import cli here to make sure custom parameters in\n",
    "            # args.py get fully evaluated before cli.py is imported.\n",
    "            from . import cli\n",
    "            cli.main(self)\n",
    "```"
   ]
  },
  {
   "cell_type": "code",
   "execution_count": null,
   "metadata": {},
   "outputs": [],
   "source": []
  }
 ],
 "metadata": {
  "kernelspec": {
   "display_name": "Python 3",
   "language": "python",
   "name": "python3"
  },
  "language_info": {
   "codemirror_mode": {
    "name": "ipython",
    "version": 3
   },
   "file_extension": ".py",
   "mimetype": "text/x-python",
   "name": "python",
   "nbconvert_exporter": "python",
   "pygments_lexer": "ipython3",
   "version": "3.7.3"
  }
 },
 "nbformat": 4,
 "nbformat_minor": 4
}
